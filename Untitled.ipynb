{
 "cells": [
  {
   "cell_type": "code",
   "execution_count": 10,
   "id": "864d34cf",
   "metadata": {},
   "outputs": [],
   "source": [
    "class ROI:\n",
    "    def __init__(self):\n",
    "        self.income = 0\n",
    "        self.total_expenses = 0\n",
    "        self.cash_flow = 0\n",
    "        self.cash_on_cash_roi = 0\n",
    "\n",
    "    def __str__(self):\n",
    "        return str()\n",
    "\n",
    "    def calculate_income(self):\n",
    "        rental_income = float(input('Please enter rental amount: '))\n",
    "        laundry = float(input('Please enter laundry amount: '))\n",
    "        storage = float(input('Please enter storage amount: '))\n",
    "        misc = float(input('Please enter miscellaneous amount: '))\n",
    "        self.income = rental_income + laundry + storage + misc\n",
    "        print(self.income)\n",
    "\n",
    "    def calculate_expenses(self):\n",
    "        tax = float(input('Please enter tax amount: '))\n",
    "        insurance = float(input('Please enter insurance amount: '))\n",
    "        electric = float(input('Please enter electric amount: '))\n",
    "        gas = float(input('Please enter gas amount: '))\n",
    "        garbage = float(input('Please enter garbage amount: '))\n",
    "        sewer = float(input('Please enter sewer amount: '))\n",
    "        water = float(input('Please enter water amount: '))\n",
    "        hoa = float(input('Please enter HOA amount: '))\n",
    "        lawn_snow_removal = float(input('Please enter lawn/snow removal amount: '))\n",
    "        vacancy = float(input('Please enter vacancy amount: '))\n",
    "        repairs = float(input('Please enter repairs amount: '))\n",
    "        cap_ex = float(input('Please enter CapEx amount: '))\n",
    "        prpt_mngmt = float(input('Please enter Property Management amount: '))\n",
    "        mortgage = float(input('Please enter Mortgage amount: '))\n",
    "        self.total_expenses = (\n",
    "            tax + insurance + electric + gas + garbage + sewer + water + hoa +\n",
    "            lawn_snow_removal + vacancy + repairs + cap_ex + prpt_mngmt + mortgage\n",
    "        )\n",
    "        print(self.total_expenses)\n",
    "\n",
    "    def calculate_cash_flow(self):\n",
    "        monthly_cash_flow = self.income - self.total_expenses\n",
    "        self.cash_flow = monthly_cash_flow * 12\n",
    "        return self.cash_flow\n",
    "\n",
    "    def calculate_cash_on_cash(self):\n",
    "        downpayment = float(input('Please enter downpayment amount: '))\n",
    "        closing_cost = float(input('Please enter Closing cost amount: '))\n",
    "        rehab = float(input('Please enter rehab amount: '))\n",
    "        misc_other = float(input('Please enter miscellaneous other amount: '))\n",
    "        total_investment = downpayment + closing_cost + rehab + misc_other\n",
    "        cash_flow = self.calculate_cash_flow()\n",
    "        cash_on_cash_roi = cash_flow / total_investment\n",
    "        return cash_on_cash_roi\n",
    "\n",
    "    def user_input(self):\n",
    "        while True:\n",
    "            response = input(\"Would you like to calculate your ROI? (Yes/No) \").lower()\n",
    "            if response == \"yes\":\n",
    "                self.calculate_income()\n",
    "                self.calculate_expenses()\n",
    "                self.calculate_cash_flow()\n",
    "                self.calculate_cash_on_cash()\n",
    "            elif response == \"no\":\n",
    "                print(\"Goodbye.\")\n",
    "                break\n",
    "            else:\n",
    "                print(\"Invalid input, please try again.\")\n"
   ]
  },
  {
   "cell_type": "code",
   "execution_count": null,
   "id": "dbd63e35",
   "metadata": {},
   "outputs": [
    {
     "name": "stdout",
     "output_type": "stream",
     "text": [
      "Would you like to calculate your ROI? (Yes/No) yes\n",
      "Please enter rental amount: 2000\n",
      "Please enter laundry amount: 0\n",
      "Please enter storage amount: 50\n",
      "Please enter miscellaneous amount: 0\n",
      "2050.0\n",
      "Please enter tax amount: 0\n",
      "Please enter insurance amount: 100\n",
      "Please enter electric amount: 60\n",
      "Please enter gas amount: 50\n",
      "Please enter garbage amount: 20\n",
      "Please enter sewer amount: 0\n",
      "Please enter water amount: 50\n",
      "Please enter HOA amount: 0\n",
      "Please enter lawn/snow removal amount: 0\n",
      "Please enter vacancy amount: 1000\n",
      "Please enter repairs amount: 0\n",
      "Please enter CapEx amount: 500\n",
      "Please enter Property Management amount: 50\n",
      "Please enter Mortgage amount: 850\n",
      "2680.0\n"
     ]
    }
   ],
   "source": [
    "calculator=ROI()\n",
    "calculator.user_input()"
   ]
  },
  {
   "cell_type": "code",
   "execution_count": null,
   "id": "1db5598d",
   "metadata": {},
   "outputs": [],
   "source": []
  }
 ],
 "metadata": {
  "kernelspec": {
   "display_name": "Python 3 (ipykernel)",
   "language": "python",
   "name": "python3"
  },
  "language_info": {
   "codemirror_mode": {
    "name": "ipython",
    "version": 3
   },
   "file_extension": ".py",
   "mimetype": "text/x-python",
   "name": "python",
   "nbconvert_exporter": "python",
   "pygments_lexer": "ipython3",
   "version": "3.10.9"
  }
 },
 "nbformat": 4,
 "nbformat_minor": 5
}
